{
 "cells": [
  {
   "cell_type": "code",
   "execution_count": 1,
   "id": "0d02db1f-a9b5-42d9-a38e-cb2b7743a7ba",
   "metadata": {},
   "outputs": [],
   "source": [
    "import pandas as pd\n",
    "import numpy as np"
   ]
  },
  {
   "cell_type": "markdown",
   "id": "7fddc90a-7b74-4b1e-a216-3e2c9baf9cb2",
   "metadata": {},
   "source": [
    "# Пример создания DataFrame"
   ]
  },
  {
   "cell_type": "code",
   "execution_count": 5,
   "id": "edbc83b9-1c3e-4e0b-b6dc-47d34ef2ae7c",
   "metadata": {},
   "outputs": [
    {
     "name": "stdout",
     "output_type": "stream",
     "text": [
      "       Возраст   Город\n",
      "Анна        25  Москва\n",
      "Иван        30     СПб\n",
      "Ольга       22  Казань\n"
     ]
    }
   ],
   "source": [
    "data = {\n",
    "\"Возраст\": [25, 30, 22],\n",
    "\"Город\": [\"Москва\", \"СПб\", \"Казань\"]\n",
    "}\n",
    "df = pd.DataFrame(data, index=[\"Анна\", \"Иван\", \"Ольга\"])\n",
    "print(df)"
   ]
  },
  {
   "cell_type": "markdown",
   "id": "464f31d8-b272-4c5a-8e9d-f3641e535be1",
   "metadata": {},
   "source": [
    "# Series как часть DataFrame\n"
   ]
  },
  {
   "cell_type": "code",
   "execution_count": 3,
   "id": "c3e6ffb2-cee0-41e8-b8be-043e271bcfad",
   "metadata": {},
   "outputs": [
    {
     "name": "stdout",
     "output_type": "stream",
     "text": [
      "Анна     25\n",
      "Иван     30\n",
      "Ольга    22\n",
      "Name: Возраст, dtype: int64\n"
     ]
    }
   ],
   "source": [
    "print(df[\"Возраст\"])"
   ]
  },
  {
   "cell_type": "markdown",
   "id": "8bd401f0-0455-4c26-a9c6-9c9345890cb2",
   "metadata": {},
   "source": [
    "# Преобразование Series в DataFrame и обратно"
   ]
  },
  {
   "cell_type": "code",
   "execution_count": 4,
   "id": "36a09ac0-fbfe-4529-8baf-842cef9d6cf6",
   "metadata": {},
   "outputs": [
    {
     "name": "stdout",
     "output_type": "stream",
     "text": [
      "   Значение\n",
      "a        10\n",
      "b        20\n",
      "c        30\n"
     ]
    }
   ],
   "source": [
    "s = pd.Series([10, 20, 30], index=[\"a\", \"b\", \"c\"])\n",
    "df = s.to_frame(name=\"Значение\")\n",
    "print(df)"
   ]
  },
  {
   "cell_type": "code",
   "execution_count": 5,
   "id": "e74343d7-086b-4a44-b667-9a1b27605810",
   "metadata": {},
   "outputs": [
    {
     "name": "stdout",
     "output_type": "stream",
     "text": [
      "a    10\n",
      "b    20\n",
      "c    30\n",
      "Name: Значение, dtype: int64\n"
     ]
    }
   ],
   "source": [
    "s = df[\"Значение\"]\n",
    "print(s)"
   ]
  },
  {
   "cell_type": "markdown",
   "id": "d5c4bc7c-f63d-4b3f-87e0-01db46d978a7",
   "metadata": {},
   "source": [
    "# Создание DataFrame из словаря ( dict )"
   ]
  },
  {
   "cell_type": "code",
   "execution_count": 6,
   "id": "20636c8c-c3a7-4462-933d-5cabec71f666",
   "metadata": {},
   "outputs": [
    {
     "name": "stdout",
     "output_type": "stream",
     "text": [
      "     Имя  Возраст   Город\n",
      "0   Анна       25  Москва\n",
      "1   Иван       30     СПб\n",
      "2  Ольга       22  Казань\n"
     ]
    }
   ],
   "source": [
    "data = {\n",
    "\"Имя\": [\"Анна\", \"Иван\", \"Ольга\"],\n",
    "\"Возраст\": [25, 30, 22],\n",
    "\"Город\": [\"Москва\", \"СПб\", \"Казань\"]\n",
    "}\n",
    "df = pd.DataFrame(data)\n",
    "print(df)"
   ]
  },
  {
   "cell_type": "markdown",
   "id": "920f23fe-e46a-4294-9cc5-cea10bed5a83",
   "metadata": {},
   "source": [
    "# Словарь одномерных Series"
   ]
  },
  {
   "cell_type": "code",
   "execution_count": 7,
   "id": "d5c3d764-2e3e-4744-89f9-153a86a0a4f9",
   "metadata": {},
   "outputs": [
    {
     "name": "stdout",
     "output_type": "stream",
     "text": [
      "   Возраст   Город\n",
      "a       25  Москва\n",
      "b       30     СПб\n",
      "c       22  Казань\n"
     ]
    }
   ],
   "source": [
    "ages = pd.Series([25, 30, 22], index=[\"a\", \"b\", \"c\"])\n",
    "cities = pd.Series([\"Москва\", \"СПб\", \"Казань\"], index=[\"a\", \"b\", \"c\"])\n",
    "df = pd.DataFrame({\"Возраст\": ages, \"Город\": cities})\n",
    "print(df)"
   ]
  },
  {
   "cell_type": "markdown",
   "id": "8f52112d-8985-48f8-a24c-48f4d5a9c07f",
   "metadata": {},
   "source": [
    "# Создание DataFrame из списка ( list )"
   ]
  },
  {
   "cell_type": "code",
   "execution_count": 8,
   "id": "bafff272-435d-4bd9-8ddc-204c25f94560",
   "metadata": {},
   "outputs": [
    {
     "name": "stdout",
     "output_type": "stream",
     "text": [
      "     Имя  Возраст   Город\n",
      "0   Анна       25  Москва\n",
      "1   Иван       30     СПб\n",
      "2  Ольга       22  Казань\n"
     ]
    }
   ],
   "source": [
    "data = [\n",
    "[\"Анна\", 25, \"Москва\"],\n",
    "[\"Иван\", 30, \"СПб\"],\n",
    "[\"Ольга\", 22, \"Казань\"]\n",
    "]\n",
    "df = pd.DataFrame(data, columns=[\"Имя\", \"Возраст\", \"Город\"])\n",
    "print(df)"
   ]
  },
  {
   "cell_type": "code",
   "execution_count": 9,
   "id": "645322f1-0d36-4d57-b1b7-8dec2bfe9f5f",
   "metadata": {},
   "outputs": [
    {
     "name": "stdout",
     "output_type": "stream",
     "text": [
      "     Имя  Возраст   Город\n",
      "0   Анна       25  Москва\n",
      "1   Иван       30     NaN\n",
      "2  Ольга       22  Казань\n"
     ]
    }
   ],
   "source": [
    "data = [\n",
    "{\"Имя\": \"Анна\", \"Возраст\": 25, \"Город\": \"Москва\"},\n",
    "{\"Имя\": \"Иван\", \"Возраст\": 30}, # \"Город\" пропущен\n",
    "{\"Имя\": \"Ольга\", \"Возраст\": 22, \"Город\": \"Казань\"}\n",
    "]\n",
    "df = pd.DataFrame(data)\n",
    "print(df)"
   ]
  },
  {
   "cell_type": "markdown",
   "id": "3c40eb0c-f2b3-4b60-a8af-bc758eb9905f",
   "metadata": {},
   "source": [
    "# Создание DataFrame из массива NumPy"
   ]
  },
  {
   "cell_type": "code",
   "execution_count": 11,
   "id": "dcc6b651-2982-4be7-84f9-52fcc7fe7019",
   "metadata": {},
   "outputs": [
    {
     "name": "stdout",
     "output_type": "stream",
     "text": [
      "     Имя Возраст   Город\n",
      "0   Анна      25  Москва\n",
      "1   Иван      30     СПб\n",
      "2  Ольга      22  Казань\n"
     ]
    }
   ],
   "source": [
    "data = np.array([\n",
    "[\"Анна\", 25, \"Москва\"],\n",
    "[\"Иван\", 30, \"СПб\"],\n",
    "[\"Ольга\", 22, \"Казань\"]\n",
    "])\n",
    "df = pd.DataFrame(data, columns=[\"Имя\", \"Возраст\", \"Город\"])\n",
    "print(df)"
   ]
  },
  {
   "cell_type": "markdown",
   "id": "757b7152-381c-4b44-bc3e-220c8bef4981",
   "metadata": {},
   "source": [
    "# Создание пустого DataFrame"
   ]
  },
  {
   "cell_type": "code",
   "execution_count": 12,
   "id": "72660165-3437-4fdd-8da6-d865f0597109",
   "metadata": {},
   "outputs": [
    {
     "name": "stdout",
     "output_type": "stream",
     "text": [
      "Empty DataFrame\n",
      "Columns: [Имя, Возраст, Город]\n",
      "Index: []\n"
     ]
    }
   ],
   "source": [
    "df = pd.DataFrame(columns=[\"Имя\", \"Возраст\", \"Город\"])\n",
    "print(df)"
   ]
  },
  {
   "cell_type": "code",
   "execution_count": 13,
   "id": "495eac71-69d6-44c3-acfb-687bdb74e915",
   "metadata": {},
   "outputs": [
    {
     "name": "stdout",
     "output_type": "stream",
     "text": [
      "    Имя  Возраст   Город\n",
      "0  Анна       25  Москва\n",
      "1  Иван       30     СПб\n"
     ]
    }
   ],
   "source": [
    "df.loc[0] = [\"Анна\", 25, \"Москва\"]\n",
    "df.loc[1] = [\"Иван\", 30, \"СПб\"]\n",
    "print(df)"
   ]
  },
  {
   "cell_type": "markdown",
   "id": "dc0c8e5c-64ff-4013-8f5e-d467cdba765f",
   "metadata": {},
   "source": [
    "# Чтение данных из CSV"
   ]
  },
  {
   "cell_type": "code",
   "execution_count": 14,
   "id": "baa3fc59-9184-4551-af08-336f5145d5ab",
   "metadata": {},
   "outputs": [
    {
     "name": "stdout",
     "output_type": "stream",
     "text": [
      "         Дата  Цена\n",
      "0  2024-03-01   100\n",
      "1  2024-03-02   110\n",
      "2  2024-03-03   105\n",
      "3  2024-03-04   120\n",
      "4  2024-03-05   115\n"
     ]
    }
   ],
   "source": [
    "df = pd.read_csv(\"data.csv\")\n",
    "print(df.head())"
   ]
  },
  {
   "cell_type": "code",
   "execution_count": 19,
   "id": "9909887e-d813-4b73-9521-099b839ba418",
   "metadata": {},
   "outputs": [
    {
     "name": "stdout",
     "output_type": "stream",
     "text": [
      "Empty DataFrame\n",
      "Columns: []\n",
      "Index: [2024-03-01,100, 2024-03-02,110, 2024-03-03,105, 2024-03-04,120, 2024-03-05,115]\n"
     ]
    }
   ],
   "source": [
    "df = pd.read_csv(\"data.csv\", sep=\";\", index_col=0, na_values=[\"?\",\n",
    "\"N/A\"])\n",
    "print(df.head())"
   ]
  },
  {
   "cell_type": "markdown",
   "id": "c2cecc6c-1ac3-43a3-bf79-ea4643353c56",
   "metadata": {},
   "source": [
    "# Метод .head() – просмотр первых строк DataFrame"
   ]
  },
  {
   "cell_type": "code",
   "execution_count": 20,
   "id": "8cf9538b-a424-4415-a311-991cf3afb406",
   "metadata": {},
   "outputs": [
    {
     "name": "stdout",
     "output_type": "stream",
     "text": [
      "     Имя  Возраст   Город\n",
      "0   Анна       25  Москва\n",
      "1   Иван       30     СПб\n",
      "2  Ольга       22  Казань\n"
     ]
    }
   ],
   "source": [
    "data = {\n",
    "\"Имя\": [\"Анна\", \"Иван\", \"Ольга\", \"Петр\", \"Мария\", \"Сергей\"],\n",
    "\"Возраст\": [25, 30, 22, 40, 35, 28],\n",
    "\"Город\": [\"Москва\", \"СПб\", \"Казань\", \"Новосибирск\",\n",
    "\"Екатеринбург\", \"Сочи\"]\n",
    "}\n",
    "df = pd.DataFrame(data)\n",
    "# Выведем первые 3 строки\n",
    "print(df.head(3))"
   ]
  },
  {
   "cell_type": "markdown",
   "id": "4567fcd9-e2f1-4dab-8bc6-23bebd1df0fc",
   "metadata": {},
   "source": [
    "# Метод .tail() – просмотр последних строк DataFrame"
   ]
  },
  {
   "cell_type": "code",
   "execution_count": 21,
   "id": "d1257a42-4c3f-41d1-a1f8-4a0aecfa3a02",
   "metadata": {},
   "outputs": [
    {
     "name": "stdout",
     "output_type": "stream",
     "text": [
      "      Имя  Возраст         Город\n",
      "4   Мария       35  Екатеринбург\n",
      "5  Сергей       28          Сочи\n"
     ]
    }
   ],
   "source": [
    "\n",
    "print(df.tail(2))"
   ]
  },
  {
   "cell_type": "markdown",
   "id": "81e2aed5-929f-4a95-984f-05e09dca9a5a",
   "metadata": {},
   "source": [
    "# Метод .info() – общая информация о DataFrame"
   ]
  },
  {
   "cell_type": "code",
   "execution_count": 22,
   "id": "4fa0faad-ef12-4ad2-96c8-5dcb26cb243e",
   "metadata": {},
   "outputs": [
    {
     "name": "stdout",
     "output_type": "stream",
     "text": [
      "<class 'pandas.core.frame.DataFrame'>\n",
      "RangeIndex: 6 entries, 0 to 5\n",
      "Data columns (total 3 columns):\n",
      " #   Column   Non-Null Count  Dtype \n",
      "---  ------   --------------  ----- \n",
      " 0   Имя      6 non-null      object\n",
      " 1   Возраст  6 non-null      int64 \n",
      " 2   Город    6 non-null      object\n",
      "dtypes: int64(1), object(2)\n",
      "memory usage: 276.0+ bytes\n"
     ]
    }
   ],
   "source": [
    "df.info()"
   ]
  },
  {
   "cell_type": "markdown",
   "id": "cb2836a6-1aab-43b7-b47a-4d56f0862d08",
   "metadata": {},
   "source": [
    "#  Метод .describe() – статистический обзор числовых данных"
   ]
  },
  {
   "cell_type": "code",
   "execution_count": 23,
   "id": "25805835-76c6-46e0-b6ba-83d9d1527fd3",
   "metadata": {},
   "outputs": [
    {
     "name": "stdout",
     "output_type": "stream",
     "text": [
      "        Возраст\n",
      "count   6.00000\n",
      "mean   30.00000\n",
      "std     6.60303\n",
      "min    22.00000\n",
      "25%    25.75000\n",
      "50%    29.00000\n",
      "75%    33.75000\n",
      "max    40.00000\n"
     ]
    }
   ],
   "source": [
    "print(df.describe())"
   ]
  },
  {
   "cell_type": "code",
   "execution_count": 24,
   "id": "088983d9-1f3a-45f0-9754-212c244347c3",
   "metadata": {},
   "outputs": [
    {
     "name": "stdout",
     "output_type": "stream",
     "text": [
      "         Имя   Город\n",
      "count      6       6\n",
      "unique     6       6\n",
      "top     Анна  Москва\n",
      "freq       1       1\n"
     ]
    }
   ],
   "source": [
    "print(df.describe(include=\"object\"))"
   ]
  },
  {
   "cell_type": "markdown",
   "id": "6172882b-2a79-41b0-9da6-1a64783eeaad",
   "metadata": {},
   "source": [
    "# Доступ к данным с .loc[] (по меткам)"
   ]
  },
  {
   "cell_type": "code",
   "execution_count": 25,
   "id": "4d811e23-60ca-45ce-a230-16c143cf790d",
   "metadata": {},
   "outputs": [
    {
     "name": "stdout",
     "output_type": "stream",
     "text": [
      "     Имя  Возраст        Город\n",
      "a   Анна       25       Москва\n",
      "b   Иван       30          СПб\n",
      "c  Ольга       22       Казань\n",
      "d   Петр       40  Новосибирск\n"
     ]
    }
   ],
   "source": [
    "data = {\n",
    "\"Имя\": [\"Анна\", \"Иван\", \"Ольга\", \"Петр\"],\n",
    "\"Возраст\": [25, 30, 22, 40],\n",
    "\"Город\": [\"Москва\", \"СПб\", \"Казань\", \"Новосибирск\"]\n",
    "}\n",
    "df = pd.DataFrame(data, index=[\"a\", \"b\", \"c\", \"d\"])\n",
    "print(df)"
   ]
  },
  {
   "cell_type": "code",
   "execution_count": 26,
   "id": "b2f450ee-feb2-4aae-a9fb-71690f0ae753",
   "metadata": {},
   "outputs": [
    {
     "name": "stdout",
     "output_type": "stream",
     "text": [
      "Имя        Иван\n",
      "Возраст      30\n",
      "Город       СПб\n",
      "Name: b, dtype: object\n"
     ]
    }
   ],
   "source": [
    "print(df.loc[\"b\"])"
   ]
  },
  {
   "cell_type": "code",
   "execution_count": 27,
   "id": "b1a956fd-8f36-4c69-baef-1dd9c2f89db1",
   "metadata": {},
   "outputs": [
    {
     "name": "stdout",
     "output_type": "stream",
     "text": [
      "Казань\n"
     ]
    }
   ],
   "source": [
    "print(df.loc[\"c\", \"Город\"])"
   ]
  },
  {
   "cell_type": "code",
   "execution_count": 28,
   "id": "f210b09e-246f-49fb-aac3-e3d15cd47463",
   "metadata": {},
   "outputs": [
    {
     "name": "stdout",
     "output_type": "stream",
     "text": [
      "     Имя  Возраст   Город\n",
      "a   Анна       25  Москва\n",
      "c  Ольга       22  Казань\n"
     ]
    }
   ],
   "source": [
    "print(df.loc[[\"a\", \"c\"]])"
   ]
  },
  {
   "cell_type": "code",
   "execution_count": 29,
   "id": "782c8cb4-3403-48b8-9c58-a95801ac7d04",
   "metadata": {},
   "outputs": [
    {
     "name": "stdout",
     "output_type": "stream",
     "text": [
      "     Имя        Город\n",
      "a   Анна       Москва\n",
      "b   Иван          СПб\n",
      "c  Ольга       Казань\n",
      "d   Петр  Новосибирск\n"
     ]
    }
   ],
   "source": [
    "print(df.loc[:, [\"Имя\", \"Город\"]])"
   ]
  },
  {
   "cell_type": "code",
   "execution_count": 30,
   "id": "782476a7-c8cd-49a1-846a-b9e197e8d646",
   "metadata": {},
   "outputs": [
    {
     "name": "stdout",
     "output_type": "stream",
     "text": [
      "    Имя  Возраст        Город\n",
      "b  Иван       30          СПб\n",
      "d  Петр       40  Новосибирск\n"
     ]
    }
   ],
   "source": [
    "print(df.loc[df[\"Возраст\"] > 25])"
   ]
  },
  {
   "cell_type": "markdown",
   "id": "38ff40f6-0dec-451c-8213-e0826b024f2b",
   "metadata": {},
   "source": [
    "# Доступ к данным с .iloc[] (по номерам строк и столбцов)"
   ]
  },
  {
   "cell_type": "code",
   "execution_count": 31,
   "id": "f9f060e7-6573-4e8e-9aea-a6a7dab16e89",
   "metadata": {},
   "outputs": [
    {
     "name": "stdout",
     "output_type": "stream",
     "text": [
      "Имя        Иван\n",
      "Возраст      30\n",
      "Город       СПб\n",
      "Name: b, dtype: object\n"
     ]
    }
   ],
   "source": [
    "print(df.iloc[1])"
   ]
  },
  {
   "cell_type": "code",
   "execution_count": 32,
   "id": "8f923862-03f7-4cf7-9d3c-e6002f85b26e",
   "metadata": {},
   "outputs": [
    {
     "name": "stdout",
     "output_type": "stream",
     "text": [
      "Казань\n"
     ]
    }
   ],
   "source": [
    "print(df.iloc[2, 2])"
   ]
  },
  {
   "cell_type": "code",
   "execution_count": 33,
   "id": "ae7762ac-7f04-448e-b861-4cf5b9857b47",
   "metadata": {},
   "outputs": [
    {
     "name": "stdout",
     "output_type": "stream",
     "text": [
      "     Имя  Возраст   Город\n",
      "a   Анна       25  Москва\n",
      "c  Ольга       22  Казань\n"
     ]
    }
   ],
   "source": [
    "print(df.iloc[[0, 2]])"
   ]
  },
  {
   "cell_type": "code",
   "execution_count": 34,
   "id": "ca7d2879-a3c6-42b0-a2f9-41ce350f38b9",
   "metadata": {},
   "outputs": [
    {
     "name": "stdout",
     "output_type": "stream",
     "text": [
      "     Имя  Возраст   Город\n",
      "b   Иван       30     СПб\n",
      "c  Ольга       22  Казань\n"
     ]
    }
   ],
   "source": [
    "print(df.iloc[1:3])"
   ]
  },
  {
   "cell_type": "code",
   "execution_count": 35,
   "id": "66cfa8f9-1772-4bed-a089-ed281616b1c5",
   "metadata": {},
   "outputs": [
    {
     "name": "stdout",
     "output_type": "stream",
     "text": [
      "     Имя        Город\n",
      "a   Анна       Москва\n",
      "b   Иван          СПб\n",
      "c  Ольга       Казань\n",
      "d   Петр  Новосибирск\n"
     ]
    }
   ],
   "source": [
    "print(df.iloc[:, [0, 2]])"
   ]
  },
  {
   "cell_type": "markdown",
   "id": "13145af7-99fd-43cf-a989-648e29499346",
   "metadata": {},
   "source": [
    "# Доступ к отдельному элементу с .at[] (по метке индекса)"
   ]
  },
  {
   "cell_type": "code",
   "execution_count": 36,
   "id": "181de25d-d8bf-4c2b-85ff-3942bdc77201",
   "metadata": {},
   "outputs": [
    {
     "name": "stdout",
     "output_type": "stream",
     "text": [
      "Казань\n"
     ]
    }
   ],
   "source": [
    "print(df.at[\"c\", \"Город\"])"
   ]
  },
  {
   "cell_type": "markdown",
   "id": "5e002300-06db-4e35-846e-4f7c5babd97e",
   "metadata": {},
   "source": [
    "# Доступ к отдельному элементу с .iat[] (по номеру строки и столбца)"
   ]
  },
  {
   "cell_type": "code",
   "execution_count": 37,
   "id": "91d4fe26-be0f-4a5c-aca0-03aa19911c45",
   "metadata": {},
   "outputs": [
    {
     "name": "stdout",
     "output_type": "stream",
     "text": [
      "Казань\n"
     ]
    }
   ],
   "source": [
    "print(df.iat[2, 2])"
   ]
  },
  {
   "cell_type": "markdown",
   "id": "598efaab-ae81-4738-ae40-47e68f262f0d",
   "metadata": {},
   "source": [
    "# Добавление нового столбца"
   ]
  },
  {
   "cell_type": "code",
   "execution_count": 38,
   "id": "a9c1611e-5af6-4c84-830a-136620b07202",
   "metadata": {},
   "outputs": [
    {
     "name": "stdout",
     "output_type": "stream",
     "text": [
      "     Имя  Возраст   Город\n",
      "0   Анна       25  Москва\n",
      "1   Иван       30     СПб\n",
      "2  Ольга       22  Казань\n"
     ]
    }
   ],
   "source": [
    "\n",
    "data = {\n",
    "\"Имя\": [\"Анна\", \"Иван\", \"Ольга\"],\n",
    "\"Возраст\": [25, 30, 22]\n",
    "}\n",
    "df = pd.DataFrame(data)\n",
    "df[\"Город\"] = [\"Москва\", \"СПб\", \"Казань\"] # Добавляем новый столбец\n",
    "print(df)"
   ]
  },
  {
   "cell_type": "code",
   "execution_count": 39,
   "id": "2143b8bf-422d-4584-9dde-248d347c6d90",
   "metadata": {},
   "outputs": [
    {
     "name": "stdout",
     "output_type": "stream",
     "text": [
      "     Имя  Возраст   Город  Страна\n",
      "0   Анна       25  Москва  Россия\n",
      "1   Иван       30     СПб  Россия\n",
      "2  Ольга       22  Казань  Россия\n"
     ]
    }
   ],
   "source": [
    "df[\"Страна\"] = \"Россия\"\n",
    "print(df)"
   ]
  },
  {
   "cell_type": "code",
   "execution_count": 40,
   "id": "6f9da0c7-9c58-4801-9eef-d141ae05c3f8",
   "metadata": {},
   "outputs": [
    {
     "name": "stdout",
     "output_type": "stream",
     "text": [
      "     Имя  Возраст   Город  Страна  Возраст_в_месяцах\n",
      "0   Анна       25  Москва  Россия                300\n",
      "1   Иван       30     СПб  Россия                360\n",
      "2  Ольга       22  Казань  Россия                264\n"
     ]
    }
   ],
   "source": [
    "df[\"Возраст_в_месяцах\"] = df[\"Возраст\"] * 12\n",
    "print(df)"
   ]
  },
  {
   "cell_type": "code",
   "execution_count": 41,
   "id": "c1ebfed5-3bb8-47a6-af4b-d50f749b120b",
   "metadata": {},
   "outputs": [
    {
     "name": "stdout",
     "output_type": "stream",
     "text": [
      "     Имя  Возраст   Город  Страна  Возраст_в_месяцах  Зарплата\n",
      "0   Анна       25  Москва  Россия                300     50000\n",
      "1   Иван       30     СПб  Россия                360     60000\n",
      "2  Ольга       22  Казань  Россия                264     45000\n"
     ]
    }
   ],
   "source": [
    "df = df.assign(Зарплата=[50000, 60000, 45000])\n",
    "print(df)"
   ]
  },
  {
   "cell_type": "code",
   "execution_count": 48,
   "id": "c0ced966-7343-4914-a19f-7224dd831d1c",
   "metadata": {},
   "outputs": [
    {
     "name": "stdout",
     "output_type": "stream",
     "text": [
      "       Имя  Возраст   Город  Страна  Возраст_в_месяцах  Зарплата  \\\n",
      "0     Анна       25  Москва  Россия              300.0   50000.0   \n",
      "1     Иван       30     СПб  Россия              360.0   60000.0   \n",
      "2    Ольга       22  Казань  Россия              264.0   45000.0   \n",
      "3  Алексей       29   Томск  Россия                NaN       NaN   \n",
      "\n",
      "  Категория возраста  \n",
      "0            Молодой  \n",
      "1           Взрослый  \n",
      "2            Молодой  \n",
      "3                NaN  \n"
     ]
    }
   ],
   "source": [
    "new_data = pd.DataFrame([{\"Имя\": \"Алексей\", \"Возраст\": 29, \"Город\":\n",
    "\"Томск\", \"Страна\": \"Россия\"}])\n",
    "df = pd.concat([df, new_data], ignore_index=True)\n",
    "print(df)"
   ]
  },
  {
   "cell_type": "code",
   "execution_count": 49,
   "id": "a785edcb-4c95-460e-bd99-da4beaa9027a",
   "metadata": {},
   "outputs": [
    {
     "name": "stdout",
     "output_type": "stream",
     "text": [
      "       Имя  Возраст    Город  Страна  Возраст_в_месяцах  Зарплата  \\\n",
      "0     Анна       25   Москва  Россия              300.0   50000.0   \n",
      "1     Иван       30      СПб  Россия              360.0   60000.0   \n",
      "2    Ольга       22   Казань  Россия              264.0   45000.0   \n",
      "3  Алексей       29    Томск  Россия                NaN       NaN   \n",
      "4  Дмитрий       31   Самара  Россия                NaN       NaN   \n",
      "5    Елена       27  Воронеж  Россия                NaN       NaN   \n",
      "\n",
      "  Категория возраста  \n",
      "0            Молодой  \n",
      "1           Взрослый  \n",
      "2            Молодой  \n",
      "3                NaN  \n",
      "4                NaN  \n",
      "5                NaN  \n"
     ]
    }
   ],
   "source": [
    "new_rows = pd.DataFrame([{\"Имя\": \"Дмитрий\", \"Возраст\": 31, \"Город\": \"Самара\", \"Страна\":\n",
    "\"Россия\"},\n",
    "{\"Имя\": \"Елена\", \"Возраст\": 27, \"Город\": \"Воронеж\", \"Страна\":\n",
    "\"Россия\"}\n",
    "])\n",
    "df = pd.concat([df, new_rows], ignore_index=True)\n",
    "print(df)"
   ]
  },
  {
   "cell_type": "code",
   "execution_count": 50,
   "id": "86f29e8b-b2e3-4b5a-a184-581650ebb263",
   "metadata": {},
   "outputs": [
    {
     "name": "stdout",
     "output_type": "stream",
     "text": [
      "       Имя  Возраст    Город  Страна  Возраст_в_месяцах  Зарплата  \\\n",
      "0     Анна       25   Москва  Россия              300.0   50000.0   \n",
      "1     Иван       30      СПб  Россия              360.0   60000.0   \n",
      "2    Ольга       22   Казань  Россия              264.0   45000.0   \n",
      "3  Алексей       29    Томск  Россия                NaN       NaN   \n",
      "4  Дмитрий       31   Самара  Россия                NaN       NaN   \n",
      "5    Елена       27  Воронеж  Россия                NaN       NaN   \n",
      "6  Дмитрий       31   Самара  Россия                NaN       NaN   \n",
      "7    Елена       27  Воронеж  Россия                NaN       NaN   \n",
      "\n",
      "  Категория возраста  \n",
      "0            Молодой  \n",
      "1           Взрослый  \n",
      "2            Молодой  \n",
      "3                NaN  \n",
      "4                NaN  \n",
      "5                NaN  \n",
      "6                NaN  \n",
      "7                NaN  \n"
     ]
    }
   ],
   "source": [
    "df = pd.concat([df, new_rows], ignore_index=True)\n",
    "print(df)"
   ]
  },
  {
   "cell_type": "markdown",
   "id": "cd405d75-9560-49a3-8fc9-cc9a01b16fdf",
   "metadata": {},
   "source": [
    "# Удаление столбцов"
   ]
  },
  {
   "cell_type": "code",
   "execution_count": 51,
   "id": "76699f39-207f-4c3c-9018-c3787f39ccec",
   "metadata": {},
   "outputs": [
    {
     "name": "stdout",
     "output_type": "stream",
     "text": [
      "     Имя  Возраст   Город\n",
      "0   Анна       25  Москва\n",
      "1   Иван       30     СПб\n",
      "2  Ольга       22  Казань\n"
     ]
    }
   ],
   "source": [
    "data = {\n",
    "\"Имя\": [\"Анна\", \"Иван\", \"Ольга\"],\n",
    "\"Возраст\": [25, 30, 22],\n",
    "\"Город\": [\"Москва\", \"СПб\", \"Казань\"],\n",
    "\"Зарплата\": [50000, 60000, 45000]\n",
    "}\n",
    "df = pd.DataFrame(data)\n",
    "# Удаляем столбец \"Зарплата\"\n",
    "df = df.drop(columns=[\"Зарплата\"])\n",
    "print(df)"
   ]
  },
  {
   "cell_type": "code",
   "execution_count": 52,
   "id": "b5c12896-ef08-48e2-baf6-a354fdc03eb5",
   "metadata": {},
   "outputs": [
    {
     "name": "stdout",
     "output_type": "stream",
     "text": [
      "     Имя\n",
      "0   Анна\n",
      "1   Иван\n",
      "2  Ольга\n"
     ]
    }
   ],
   "source": [
    "df = df.drop(columns=[\"Возраст\", \"Город\"])\n",
    "print(df)"
   ]
  },
  {
   "cell_type": "code",
   "execution_count": 53,
   "id": "33bc29f6-bcad-48c3-9c3d-f45facf65995",
   "metadata": {},
   "outputs": [
    {
     "name": "stdout",
     "output_type": "stream",
     "text": [
      "Empty DataFrame\n",
      "Columns: []\n",
      "Index: [0, 1, 2]\n"
     ]
    }
   ],
   "source": [
    "del df[\"Имя\"]\n",
    "print(df)"
   ]
  },
  {
   "cell_type": "code",
   "execution_count": 54,
   "id": "b1cdddeb-9433-472d-ad5c-068cafa17943",
   "metadata": {},
   "outputs": [
    {
     "name": "stdout",
     "output_type": "stream",
     "text": [
      "0     Анна\n",
      "1     Иван\n",
      "2    Ольга\n",
      "Name: Имя, dtype: object\n"
     ]
    }
   ],
   "source": [
    "df[\"Имя\"] = [\"Анна\", \"Иван\", \"Ольга\"] # Вернем столбец для примера\n",
    "удаленный_столбец = df.pop(\"Имя\")\n",
    "print(удаленный_столбец)"
   ]
  },
  {
   "cell_type": "markdown",
   "id": "dbcc20a8-4fe9-46e2-ae1d-322e545f651a",
   "metadata": {},
   "source": [
    "# Удаление строк"
   ]
  },
  {
   "cell_type": "code",
   "execution_count": 55,
   "id": "13dbb3e2-667a-4f16-b90d-e236f7898c02",
   "metadata": {},
   "outputs": [
    {
     "name": "stdout",
     "output_type": "stream",
     "text": [
      "     Имя  Возраст   Город  Зарплата\n",
      "0   Анна       25  Москва     50000\n",
      "2  Ольга       22  Казань     45000\n"
     ]
    }
   ],
   "source": [
    "df = pd.DataFrame(data) # Восстанавливаем DataFrame\n",
    "# Удаляем строку с индексом 1 (Иван)\n",
    "df = df.drop(index=1)\n",
    "print(df)"
   ]
  },
  {
   "cell_type": "code",
   "execution_count": 56,
   "id": "024ded34-f9b1-4ac4-9c90-fdd0f55b7219",
   "metadata": {},
   "outputs": [
    {
     "name": "stdout",
     "output_type": "stream",
     "text": [
      "Empty DataFrame\n",
      "Columns: [Имя, Возраст, Город, Зарплата]\n",
      "Index: []\n"
     ]
    }
   ],
   "source": [
    "df = df.drop(index=[0, 2]) # Удаляем Анну и Ольгу\n",
    "print(df)"
   ]
  },
  {
   "cell_type": "markdown",
   "id": "57743b67-a9f7-415b-ab84-a059e0847590",
   "metadata": {},
   "source": [
    "# Удаление строк с пропущенными значениями ( dropna )"
   ]
  },
  {
   "cell_type": "code",
   "execution_count": 58,
   "id": "ba010d2c-af0a-4e9e-aaa1-2e1229b68306",
   "metadata": {},
   "outputs": [
    {
     "name": "stdout",
     "output_type": "stream",
     "text": [
      "Empty DataFrame\n",
      "Columns: [Имя, Возраст, Город, Зарплата]\n",
      "Index: []\n"
     ]
    }
   ],
   "source": [
    "df.loc[3] = [\"Мария\", None, \"Самара\", 55000] # Добавим строку с пропуском\n",
    "df = df.dropna() # Удалим все строки с пропущенными значениями\n",
    "print(df)"
   ]
  },
  {
   "cell_type": "markdown",
   "id": "b9ae6a27-9ad4-4ef9-bdd6-3072cfd609f6",
   "metadata": {},
   "source": [
    "# Удаление дубликатов ( drop_duplicates )"
   ]
  },
  {
   "cell_type": "code",
   "execution_count": 59,
   "id": "b997b7cc-eca5-467a-8caf-47d67d9ba464",
   "metadata": {},
   "outputs": [
    {
     "name": "stdout",
     "output_type": "stream",
     "text": [
      "     Имя  Возраст\n",
      "0   Анна       25\n",
      "1   Иван       30\n",
      "3  Ольга       22\n"
     ]
    }
   ],
   "source": [
    "df = pd.DataFrame({\n",
    "\"Имя\": [\"Анна\", \"Иван\", \"Анна\", \"Ольга\"],\n",
    "\"Возраст\": [25, 30, 25, 22]\n",
    "})\n",
    "df = df.drop_duplicates()\n",
    "print(df)"
   ]
  },
  {
   "cell_type": "code",
   "execution_count": 60,
   "id": "72c07f3e-1983-438d-a31a-082e16d4134f",
   "metadata": {},
   "outputs": [],
   "source": [
    "df = df.drop_duplicates(subset=[\"Имя\"])"
   ]
  },
  {
   "cell_type": "markdown",
   "id": "04fbf93e-d0b3-4dd0-80af-dd8a6b36138d",
   "metadata": {},
   "source": [
    "# Фильтрация с .query()"
   ]
  },
  {
   "cell_type": "code",
   "execution_count": 61,
   "id": "a9c50d17-0170-498d-b0a4-a6e4f5fed02d",
   "metadata": {},
   "outputs": [
    {
     "name": "stdout",
     "output_type": "stream",
     "text": [
      "     Имя  Возраст        Город  Зарплата\n",
      "0   Анна       25       Москва     50000\n",
      "1   Иван       30          СПб     60000\n",
      "2  Ольга       22       Казань     45000\n",
      "3   Петр       40  Новосибирск     70000\n",
      "4  Мария       35          СПб     65000\n"
     ]
    }
   ],
   "source": [
    "data = {\n",
    "\"Имя\": [\"Анна\", \"Иван\", \"Ольга\", \"Петр\", \"Мария\"],\n",
    "\"Возраст\": [25, 30, 22, 40, 35],\n",
    "\"Город\": [\"Москва\", \"СПб\", \"Казань\", \"Новосибирск\", \"СПб\"],\n",
    "\"Зарплата\": [50000, 60000, 45000, 70000, 65000]\n",
    "}\n",
    "df = pd.DataFrame(data)\n",
    "print(df)"
   ]
  },
  {
   "cell_type": "code",
   "execution_count": 62,
   "id": "1a74502c-8890-49b6-a95c-f9a04ea26a6e",
   "metadata": {},
   "outputs": [
    {
     "name": "stdout",
     "output_type": "stream",
     "text": [
      "     Имя  Возраст        Город  Зарплата\n",
      "3   Петр       40  Новосибирск     70000\n",
      "4  Мария       35          СПб     65000\n"
     ]
    }
   ],
   "source": [
    "df_filtered = df.query(\"Возраст > 30\")\n",
    "print(df_filtered)"
   ]
  },
  {
   "cell_type": "code",
   "execution_count": 63,
   "id": "99662102-d833-45f1-8e42-ccf9e11c8ebe",
   "metadata": {},
   "outputs": [
    {
     "name": "stdout",
     "output_type": "stream",
     "text": [
      "     Имя  Возраст Город  Зарплата\n",
      "4  Мария       35   СПб     65000\n"
     ]
    }
   ],
   "source": [
    "df_filtered = df.query(\"Город == 'СПб' and Зарплата > 60000\")\n",
    "print(df_filtered)"
   ]
  },
  {
   "cell_type": "code",
   "execution_count": 64,
   "id": "fb004a27-1056-4e46-a8c5-064ccf49b9d7",
   "metadata": {},
   "outputs": [
    {
     "name": "stdout",
     "output_type": "stream",
     "text": [
      "     Имя  Возраст        Город  Зарплата\n",
      "1   Иван       30          СПб     60000\n",
      "3   Петр       40  Новосибирск     70000\n",
      "4  Мария       35          СПб     65000\n"
     ]
    }
   ],
   "source": [
    "min_age = 25\n",
    "df_filtered = df.query(\"Возраст > @min_age\")\n",
    "print(df_filtered)"
   ]
  },
  {
   "cell_type": "markdown",
   "id": "8d3c9db7-9497-40df-a3d6-19c22b34e097",
   "metadata": {},
   "source": [
    "# Фильтрация с .isin()"
   ]
  },
  {
   "cell_type": "code",
   "execution_count": 65,
   "id": "65397c4d-4b20-46f8-b9cb-af089098e87c",
   "metadata": {},
   "outputs": [
    {
     "name": "stdout",
     "output_type": "stream",
     "text": [
      "     Имя  Возраст   Город  Зарплата\n",
      "0   Анна       25  Москва     50000\n",
      "1   Иван       30     СПб     60000\n",
      "4  Мария       35     СПб     65000\n"
     ]
    }
   ],
   "source": [
    "df_filtered = df[df[\"Город\"].isin([\"Москва\", \"СПб\"])]\n",
    "print(df_filtered)"
   ]
  },
  {
   "cell_type": "code",
   "execution_count": 67,
   "id": "78cd5554-649e-44e8-a1c7-be0bf05bcf46",
   "metadata": {},
   "outputs": [
    {
     "name": "stdout",
     "output_type": "stream",
     "text": [
      "     Имя  Возраст        Город  Зарплата\n",
      "2  Ольга       22       Казань     45000\n",
      "3   Петр       40  Новосибирск     70000\n"
     ]
    }
   ],
   "source": [
    "df_filtered = df[~df[\"Город\"].isin([\"Москва\", \"СПб\"])]\n",
    "print(df_filtered)"
   ]
  },
  {
   "cell_type": "markdown",
   "id": "5bd968cf-d6b3-4c28-9e5e-b0c151bb4561",
   "metadata": {},
   "source": [
    "# Фильтрация с .between()"
   ]
  },
  {
   "cell_type": "code",
   "execution_count": 68,
   "id": "1f6af8c1-4c47-418c-beca-dfa77a2b2e2e",
   "metadata": {},
   "outputs": [
    {
     "name": "stdout",
     "output_type": "stream",
     "text": [
      "     Имя  Возраст   Город  Зарплата\n",
      "0   Анна       25  Москва     50000\n",
      "1   Иван       30     СПб     60000\n",
      "4  Мария       35     СПб     65000\n"
     ]
    }
   ],
   "source": [
    "df_filtered = df[df[\"Возраст\"].between(25, 35)]\n",
    "print(df_filtered)"
   ]
  },
  {
   "cell_type": "code",
   "execution_count": 69,
   "id": "9447d6d9-bbea-4020-a505-6b650e82bd57",
   "metadata": {},
   "outputs": [
    {
     "name": "stdout",
     "output_type": "stream",
     "text": [
      "    Имя  Возраст Город  Зарплата\n",
      "1  Иван       30   СПб     60000\n"
     ]
    }
   ],
   "source": [
    "df_filtered = df[df[\"Возраст\"].between(25, 35, inclusive=\"neither\")]\n",
    "print(df_filtered)"
   ]
  },
  {
   "cell_type": "markdown",
   "id": "1c90f403-9f41-4b58-9418-7d897dd5aefd",
   "metadata": {},
   "source": [
    "# Подсчет ненулевых значений: .count()"
   ]
  },
  {
   "cell_type": "code",
   "execution_count": 70,
   "id": "a1e42356-a4d3-4551-9330-f0819a8397c8",
   "metadata": {},
   "outputs": [
    {
     "name": "stdout",
     "output_type": "stream",
     "text": [
      "     Имя  Возраст        Город\n",
      "0   Анна     25.0       Москва\n",
      "1   Иван     30.0          СПб\n",
      "2  Ольга     22.0       Казань\n",
      "3   Петр      NaN  Новосибирск\n",
      "4   None     35.0          СПб\n"
     ]
    }
   ],
   "source": [
    "data = {\"Имя\": [\"Анна\", \"Иван\", \"Ольга\", \"Петр\", None],\n",
    "\"Возраст\": [25, 30, 22, None, 35],\n",
    "\"Город\": [\"Москва\", \"СПб\", \"Казань\", \"Новосибирск\", \"СПб\"]\n",
    "}\n",
    "df = pd.DataFrame(data)\n",
    "print(df)"
   ]
  },
  {
   "cell_type": "code",
   "execution_count": 71,
   "id": "93d50ff6-702a-40c7-828c-a2d6a48b0c52",
   "metadata": {},
   "outputs": [
    {
     "name": "stdout",
     "output_type": "stream",
     "text": [
      "Имя        4\n",
      "Возраст    4\n",
      "Город      5\n",
      "dtype: int64\n"
     ]
    }
   ],
   "source": [
    "print(df.count())"
   ]
  },
  {
   "cell_type": "markdown",
   "id": "6d00806f-aa19-4f56-9635-2651f5562c28",
   "metadata": {},
   "source": [
    "# Подсчет уникальных значений: .value_counts()"
   ]
  },
  {
   "cell_type": "code",
   "execution_count": 72,
   "id": "0c250d17-45d5-47f1-adf8-3bd4dced865b",
   "metadata": {},
   "outputs": [
    {
     "name": "stdout",
     "output_type": "stream",
     "text": [
      "Город\n",
      "СПб            2\n",
      "Москва         1\n",
      "Казань         1\n",
      "Новосибирск    1\n",
      "Name: count, dtype: int64\n"
     ]
    }
   ],
   "source": [
    "print(df[\"Город\"].value_counts())"
   ]
  },
  {
   "cell_type": "code",
   "execution_count": 73,
   "id": "0651551b-568c-4fbe-91a7-075f1c0d3184",
   "metadata": {},
   "outputs": [
    {
     "name": "stdout",
     "output_type": "stream",
     "text": [
      "Город\n",
      "Москва         1\n",
      "СПб            2\n",
      "Казань         1\n",
      "Новосибирск    1\n",
      "Name: count, dtype: int64\n"
     ]
    }
   ],
   "source": [
    "print(df[\"Город\"].value_counts(sort=False))"
   ]
  },
  {
   "cell_type": "code",
   "execution_count": 74,
   "id": "e885408d-e519-481a-bc04-dc0aed549b6c",
   "metadata": {},
   "outputs": [
    {
     "name": "stdout",
     "output_type": "stream",
     "text": [
      "Имя\n",
      "Анна     1\n",
      "Иван     1\n",
      "Ольга    1\n",
      "Петр     1\n",
      "None     1\n",
      "Name: count, dtype: int64\n"
     ]
    }
   ],
   "source": [
    "print(df[\"Имя\"].value_counts(dropna=False))"
   ]
  },
  {
   "cell_type": "markdown",
   "id": "285d9312-d380-4bb5-b285-e0ad925a367c",
   "metadata": {},
   "source": [
    "# Подсчет количества уникальных значений: .nunique()"
   ]
  },
  {
   "cell_type": "code",
   "execution_count": 75,
   "id": "66b63897-f421-4b8b-b5f0-f154cf553c93",
   "metadata": {},
   "outputs": [
    {
     "name": "stdout",
     "output_type": "stream",
     "text": [
      "Имя        4\n",
      "Возраст    4\n",
      "Город      4\n",
      "dtype: int64\n"
     ]
    }
   ],
   "source": [
    "print(df.nunique())"
   ]
  },
  {
   "cell_type": "code",
   "execution_count": 76,
   "id": "8ae43122-0bdc-4913-89ea-b1e8e16a70cc",
   "metadata": {},
   "outputs": [
    {
     "name": "stdout",
     "output_type": "stream",
     "text": [
      "5\n"
     ]
    }
   ],
   "source": [
    "print(df[\"Имя\"].nunique(dropna=False))"
   ]
  },
  {
   "cell_type": "markdown",
   "id": "70703692-6f42-4457-8432-ea42778826d9",
   "metadata": {},
   "source": [
    "# Подсчет пропущенных значений: .isna().sum()"
   ]
  },
  {
   "cell_type": "code",
   "execution_count": 77,
   "id": "16a6b250-e186-4ddc-b7de-0b260f102a57",
   "metadata": {},
   "outputs": [
    {
     "name": "stdout",
     "output_type": "stream",
     "text": [
      "Имя        1\n",
      "Возраст    1\n",
      "Город      0\n",
      "dtype: int64\n"
     ]
    }
   ],
   "source": [
    "print(df.isna().sum())"
   ]
  },
  {
   "cell_type": "markdown",
   "id": "4ecf4cff-2b4a-475e-8897-cda80e40491c",
   "metadata": {},
   "source": [
    "# Сортировка по значениям: .sort_values()"
   ]
  },
  {
   "cell_type": "code",
   "execution_count": 78,
   "id": "559520b5-4652-4699-b72e-1a446bae442b",
   "metadata": {},
   "outputs": [
    {
     "name": "stdout",
     "output_type": "stream",
     "text": [
      "     Имя  Возраст  Зарплата\n",
      "0   Анна       25     50000\n",
      "1   Иван       30     60000\n",
      "2  Ольга       22     45000\n",
      "3   Петр       40     70000\n",
      "4  Мария       35     65000\n"
     ]
    }
   ],
   "source": [
    "data = {\n",
    "\"Имя\": [\"Анна\", \"Иван\", \"Ольга\", \"Петр\", \"Мария\"],\n",
    "\"Возраст\": [25, 30, 22, 40, 35],\n",
    "\"Зарплата\": [50000, 60000, 45000, 70000, 65000]\n",
    "}\n",
    "df = pd.DataFrame(data)\n",
    "print(df)"
   ]
  },
  {
   "cell_type": "code",
   "execution_count": 79,
   "id": "5929bcec-78f7-473b-8056-8fd198a6f87c",
   "metadata": {},
   "outputs": [
    {
     "name": "stdout",
     "output_type": "stream",
     "text": [
      "     Имя  Возраст  Зарплата\n",
      "2  Ольга       22     45000\n",
      "0   Анна       25     50000\n",
      "1   Иван       30     60000\n",
      "4  Мария       35     65000\n",
      "3   Петр       40     70000\n"
     ]
    }
   ],
   "source": [
    "df_sorted = df.sort_values(by=\"Возраст\")\n",
    "print(df_sorted)"
   ]
  },
  {
   "cell_type": "code",
   "execution_count": 80,
   "id": "6537f4b0-ea46-428c-830c-09389c7deb85",
   "metadata": {},
   "outputs": [
    {
     "name": "stdout",
     "output_type": "stream",
     "text": [
      "     Имя  Возраст  Зарплата\n",
      "3   Петр       40     70000\n",
      "4  Мария       35     65000\n",
      "1   Иван       30     60000\n",
      "0   Анна       25     50000\n",
      "2  Ольга       22     45000\n"
     ]
    }
   ],
   "source": [
    "df_sorted = df.sort_values(by=\"Возраст\", ascending=False)\n",
    "print(df_sorted)"
   ]
  },
  {
   "cell_type": "code",
   "execution_count": 81,
   "id": "cc0f875f-d063-41a5-882e-aa82d189b861",
   "metadata": {},
   "outputs": [
    {
     "name": "stdout",
     "output_type": "stream",
     "text": [
      "     Имя  Возраст  Зарплата\n",
      "3   Петр       40     70000\n",
      "4  Мария       35     65000\n",
      "1   Иван       30     60000\n",
      "0   Анна       25     50000\n",
      "2  Ольга       22     45000\n"
     ]
    }
   ],
   "source": [
    "df_sorted = df.sort_values(by=\"Возраст\", ascending=False)\n",
    "print(df_sorted)"
   ]
  },
  {
   "cell_type": "code",
   "execution_count": 82,
   "id": "6db15f21-3bd2-4b7b-b871-7326fff60151",
   "metadata": {},
   "outputs": [
    {
     "name": "stdout",
     "output_type": "stream",
     "text": [
      "     Имя Возраст  Зарплата\n",
      "5  Елена    None     55000\n",
      "2  Ольга      22     45000\n",
      "0   Анна      25     50000\n",
      "1   Иван      30     60000\n",
      "4  Мария      35     65000\n",
      "3   Петр      40     70000\n"
     ]
    }
   ],
   "source": [
    "df.loc[5] = [\"Елена\", None, 55000] # Добавляем строку с NaN в\n",
    "\"Возраст\"\n",
    "df_sorted = df.sort_values(by=\"Возраст\", na_position=\"first\")\n",
    "print(df_sorted)"
   ]
  },
  {
   "cell_type": "markdown",
   "id": "d49ef873-b4c0-44b4-af3f-0a291baffc2d",
   "metadata": {},
   "source": [
    "# Сортировка по индексам: .sort_index()"
   ]
  },
  {
   "cell_type": "code",
   "execution_count": 83,
   "id": "8d15b769-e48a-4f78-bf6d-4cb6af26ee41",
   "metadata": {},
   "outputs": [
    {
     "name": "stdout",
     "output_type": "stream",
     "text": [
      "     Имя Возраст  Зарплата\n",
      "0   Анна      25     50000\n",
      "1   Иван      30     60000\n",
      "2  Ольга      22     45000\n",
      "3   Петр      40     70000\n",
      "4  Мария      35     65000\n",
      "5  Елена    None     55000\n"
     ]
    }
   ],
   "source": [
    "df_sorted = df.sort_index()\n",
    "print(df_sorted)"
   ]
  },
  {
   "cell_type": "code",
   "execution_count": 84,
   "id": "a139aff3-5f7e-4929-bf1b-a14674a27a02",
   "metadata": {},
   "outputs": [
    {
     "name": "stdout",
     "output_type": "stream",
     "text": [
      "     Имя Возраст  Зарплата\n",
      "5  Елена    None     55000\n",
      "4  Мария      35     65000\n",
      "3   Петр      40     70000\n",
      "2  Ольга      22     45000\n",
      "1   Иван      30     60000\n",
      "0   Анна      25     50000\n"
     ]
    }
   ],
   "source": [
    "df_sorted = df.sort_index(ascending=False)\n",
    "print(df_sorted)"
   ]
  },
  {
   "cell_type": "markdown",
   "id": "ab032590-b2c2-456a-9fbb-4dfd754177e3",
   "metadata": {},
   "source": [
    "# Базовое отображение pandas.DataFrame"
   ]
  },
  {
   "cell_type": "code",
   "execution_count": 85,
   "id": "fd24bb30-d3c2-4a23-a13e-ae1d54974fa5",
   "metadata": {},
   "outputs": [
    {
     "name": "stdout",
     "output_type": "stream",
     "text": [
      "     Имя  Возраст   Город\n",
      "0   Анна       25  Москва\n",
      "1   Иван       30     СПб\n",
      "2  Ольга       22  Казань\n"
     ]
    }
   ],
   "source": [
    "df = pd.DataFrame({\n",
    "\"Имя\": [\"Анна\", \"Иван\", \"Ольга\"],\n",
    "\"Возраст\": [25, 30, 22],\n",
    "\"Город\": [\"Москва\", \"СПб\", \"Казань\"]\n",
    "})\n",
    "print(df)"
   ]
  },
  {
   "cell_type": "code",
   "execution_count": 86,
   "id": "e47fe4f4-92a0-46b4-aaa8-75076557aaf1",
   "metadata": {},
   "outputs": [
    {
     "data": {
      "text/html": [
       "<div>\n",
       "<style scoped>\n",
       "    .dataframe tbody tr th:only-of-type {\n",
       "        vertical-align: middle;\n",
       "    }\n",
       "\n",
       "    .dataframe tbody tr th {\n",
       "        vertical-align: top;\n",
       "    }\n",
       "\n",
       "    .dataframe thead th {\n",
       "        text-align: right;\n",
       "    }\n",
       "</style>\n",
       "<table border=\"1\" class=\"dataframe\">\n",
       "  <thead>\n",
       "    <tr style=\"text-align: right;\">\n",
       "      <th></th>\n",
       "      <th>Имя</th>\n",
       "      <th>Возраст</th>\n",
       "      <th>Город</th>\n",
       "    </tr>\n",
       "  </thead>\n",
       "  <tbody>\n",
       "    <tr>\n",
       "      <th>0</th>\n",
       "      <td>Анна</td>\n",
       "      <td>25</td>\n",
       "      <td>Москва</td>\n",
       "    </tr>\n",
       "    <tr>\n",
       "      <th>1</th>\n",
       "      <td>Иван</td>\n",
       "      <td>30</td>\n",
       "      <td>СПб</td>\n",
       "    </tr>\n",
       "    <tr>\n",
       "      <th>2</th>\n",
       "      <td>Ольга</td>\n",
       "      <td>22</td>\n",
       "      <td>Казань</td>\n",
       "    </tr>\n",
       "  </tbody>\n",
       "</table>\n",
       "</div>"
      ],
      "text/plain": [
       "     Имя  Возраст   Город\n",
       "0   Анна       25  Москва\n",
       "1   Иван       30     СПб\n",
       "2  Ольга       22  Казань"
      ]
     },
     "metadata": {},
     "output_type": "display_data"
    }
   ],
   "source": [
    "from IPython.display import display\n",
    "display(df)"
   ]
  },
  {
   "cell_type": "code",
   "execution_count": 87,
   "id": "853991ac-8cdc-48d1-8bc4-88970a3dfd87",
   "metadata": {},
   "outputs": [
    {
     "data": {
      "text/html": [
       "<div>\n",
       "<style scoped>\n",
       "    .dataframe tbody tr th:only-of-type {\n",
       "        vertical-align: middle;\n",
       "    }\n",
       "\n",
       "    .dataframe tbody tr th {\n",
       "        vertical-align: top;\n",
       "    }\n",
       "\n",
       "    .dataframe thead th {\n",
       "        text-align: right;\n",
       "    }\n",
       "</style>\n",
       "<table border=\"1\" class=\"dataframe\">\n",
       "  <thead>\n",
       "    <tr style=\"text-align: right;\">\n",
       "      <th></th>\n",
       "      <th>Имя</th>\n",
       "      <th>Возраст</th>\n",
       "      <th>Город</th>\n",
       "    </tr>\n",
       "  </thead>\n",
       "  <tbody>\n",
       "    <tr>\n",
       "      <th>0</th>\n",
       "      <td>Анна</td>\n",
       "      <td>25</td>\n",
       "      <td>Москва</td>\n",
       "    </tr>\n",
       "    <tr>\n",
       "      <th>1</th>\n",
       "      <td>Иван</td>\n",
       "      <td>30</td>\n",
       "      <td>СПб</td>\n",
       "    </tr>\n",
       "    <tr>\n",
       "      <th>2</th>\n",
       "      <td>Ольга</td>\n",
       "      <td>22</td>\n",
       "      <td>Казань</td>\n",
       "    </tr>\n",
       "  </tbody>\n",
       "</table>\n",
       "</div>"
      ],
      "text/plain": [
       "     Имя  Возраст   Город\n",
       "0   Анна       25  Москва\n",
       "1   Иван       30     СПб\n",
       "2  Ольга       22  Казань"
      ]
     },
     "execution_count": 87,
     "metadata": {},
     "output_type": "execute_result"
    }
   ],
   "source": [
    "df.head(5)"
   ]
  },
  {
   "cell_type": "code",
   "execution_count": 88,
   "id": "89f593e8-fe47-4354-b2c2-c0444f438eca",
   "metadata": {},
   "outputs": [
    {
     "data": {
      "text/html": [
       "<div>\n",
       "<style scoped>\n",
       "    .dataframe tbody tr th:only-of-type {\n",
       "        vertical-align: middle;\n",
       "    }\n",
       "\n",
       "    .dataframe tbody tr th {\n",
       "        vertical-align: top;\n",
       "    }\n",
       "\n",
       "    .dataframe thead th {\n",
       "        text-align: right;\n",
       "    }\n",
       "</style>\n",
       "<table border=\"1\" class=\"dataframe\">\n",
       "  <thead>\n",
       "    <tr style=\"text-align: right;\">\n",
       "      <th></th>\n",
       "      <th>Имя</th>\n",
       "      <th>Возраст</th>\n",
       "      <th>Город</th>\n",
       "    </tr>\n",
       "  </thead>\n",
       "  <tbody>\n",
       "    <tr>\n",
       "      <th>0</th>\n",
       "      <td>Анна</td>\n",
       "      <td>25</td>\n",
       "      <td>Москва</td>\n",
       "    </tr>\n",
       "    <tr>\n",
       "      <th>1</th>\n",
       "      <td>Иван</td>\n",
       "      <td>30</td>\n",
       "      <td>СПб</td>\n",
       "    </tr>\n",
       "    <tr>\n",
       "      <th>2</th>\n",
       "      <td>Ольга</td>\n",
       "      <td>22</td>\n",
       "      <td>Казань</td>\n",
       "    </tr>\n",
       "  </tbody>\n",
       "</table>\n",
       "</div>"
      ],
      "text/plain": [
       "     Имя  Возраст   Город\n",
       "0   Анна       25  Москва\n",
       "1   Иван       30     СПб\n",
       "2  Ольга       22  Казань"
      ]
     },
     "execution_count": 88,
     "metadata": {},
     "output_type": "execute_result"
    }
   ],
   "source": [
    "df.tail(3)"
   ]
  },
  {
   "cell_type": "markdown",
   "id": "242ea62c-eeb9-4b89-a323-2f98bca65498",
   "metadata": {},
   "source": [
    "# Управление настройками отображения"
   ]
  },
  {
   "cell_type": "code",
   "execution_count": 90,
   "id": "8a2dc57c-8092-4d24-94fb-f39b6ce7ca48",
   "metadata": {},
   "outputs": [],
   "source": [
    "pd.set_option(\"display.max_rows\", 100) #  Показывать до 100 строк"
   ]
  },
  {
   "cell_type": "code",
   "execution_count": 91,
   "id": "f704e01a-7295-4786-9f74-fd5e4343b9f7",
   "metadata": {},
   "outputs": [],
   "source": [
    "pd.set_option(\"display.max_columns\", 50) # Показывать до 50 столбцов"
   ]
  },
  {
   "cell_type": "code",
   "execution_count": 92,
   "id": "a7ce7c97-4fb6-44f5-8e4f-167e31c2e7bd",
   "metadata": {},
   "outputs": [],
   "source": [
    "pd.set_option(\"display.max_colwidth\", None)"
   ]
  },
  {
   "cell_type": "code",
   "execution_count": 93,
   "id": "d263d2cc-683c-4635-9637-4b3654a28b6b",
   "metadata": {},
   "outputs": [],
   "source": [
    "pd.set_option(\"display.float_format\", \"{:.2f}\".format)"
   ]
  },
  {
   "cell_type": "markdown",
   "id": "f87df6f3-a6b3-4518-b407-d301fcd87a94",
   "metadata": {},
   "source": [
    "# Визуализация больших таблиц"
   ]
  },
  {
   "cell_type": "code",
   "execution_count": 94,
   "id": "be6c5287-7c54-4688-8850-4f02e746bc90",
   "metadata": {},
   "outputs": [
    {
     "data": {
      "text/html": [
       "<style type=\"text/css\">\n",
       "#T_d7a57 thead tr th:nth-child(1) {\n",
       "  position: sticky;\n",
       "  background-color: inherit;\n",
       "  left: 0px;\n",
       "  z-index: 3 !important;\n",
       "}\n",
       "#T_d7a57 tbody tr th:nth-child(1) {\n",
       "  position: sticky;\n",
       "  background-color: inherit;\n",
       "  left: 0px;\n",
       "  z-index: 1;\n",
       "}\n",
       "</style>\n",
       "<table id=\"T_d7a57\">\n",
       "  <thead>\n",
       "    <tr>\n",
       "      <th class=\"blank level0\" >&nbsp;</th>\n",
       "      <th id=\"T_d7a57_level0_col0\" class=\"col_heading level0 col0\" >Имя</th>\n",
       "      <th id=\"T_d7a57_level0_col1\" class=\"col_heading level0 col1\" >Возраст</th>\n",
       "      <th id=\"T_d7a57_level0_col2\" class=\"col_heading level0 col2\" >Город</th>\n",
       "    </tr>\n",
       "  </thead>\n",
       "  <tbody>\n",
       "    <tr>\n",
       "      <th id=\"T_d7a57_level0_row0\" class=\"row_heading level0 row0\" >0</th>\n",
       "      <td id=\"T_d7a57_row0_col0\" class=\"data row0 col0\" >Анна</td>\n",
       "      <td id=\"T_d7a57_row0_col1\" class=\"data row0 col1\" >25</td>\n",
       "      <td id=\"T_d7a57_row0_col2\" class=\"data row0 col2\" >Москва</td>\n",
       "    </tr>\n",
       "    <tr>\n",
       "      <th id=\"T_d7a57_level0_row1\" class=\"row_heading level0 row1\" >1</th>\n",
       "      <td id=\"T_d7a57_row1_col0\" class=\"data row1 col0\" >Иван</td>\n",
       "      <td id=\"T_d7a57_row1_col1\" class=\"data row1 col1\" >30</td>\n",
       "      <td id=\"T_d7a57_row1_col2\" class=\"data row1 col2\" >СПб</td>\n",
       "    </tr>\n",
       "    <tr>\n",
       "      <th id=\"T_d7a57_level0_row2\" class=\"row_heading level0 row2\" >2</th>\n",
       "      <td id=\"T_d7a57_row2_col0\" class=\"data row2 col0\" >Ольга</td>\n",
       "      <td id=\"T_d7a57_row2_col1\" class=\"data row2 col1\" >22</td>\n",
       "      <td id=\"T_d7a57_row2_col2\" class=\"data row2 col2\" >Казань</td>\n",
       "    </tr>\n",
       "  </tbody>\n",
       "</table>\n"
      ],
      "text/plain": [
       "<pandas.io.formats.style.Styler at 0x15b306fae70>"
      ]
     },
     "execution_count": 94,
     "metadata": {},
     "output_type": "execute_result"
    }
   ],
   "source": [
    "df.style.set_sticky() # Позволяет зафиксировать заголовки таблицы при прокрутке."
   ]
  },
  {
   "cell_type": "code",
   "execution_count": 97,
   "id": "4a810d3b-6656-4699-a7b7-57c08b1995c0",
   "metadata": {},
   "outputs": [
    {
     "name": "stdout",
     "output_type": "stream",
     "text": [
      "|    | Имя   |   Возраст | Город   |\n",
      "|----|-------|-----------|---------|\n",
      "|  0 | Анна  |        25 | Москва  |\n",
      "|  1 | Иван  |        30 | СПб     |\n",
      "|  2 | Ольга |        22 | Казань  |\n"
     ]
    }
   ],
   "source": [
    "from tabulate import tabulate\n",
    "print(tabulate(df, headers=\"keys\", tablefmt=\"github\"))"
   ]
  },
  {
   "cell_type": "markdown",
   "id": "185414b6-ae07-4b22-96ab-39670d1305e4",
   "metadata": {},
   "source": [
    "# Экспорт таблицы в html"
   ]
  },
  {
   "cell_type": "code",
   "execution_count": 99,
   "id": "5cd201eb-6d3c-43eb-b1b2-00064bf9b6a4",
   "metadata": {},
   "outputs": [],
   "source": [
    "html_table = df.to_html()\n",
    "with open(\"table.html\", \"w\", encoding=\"utf-8\") as f:\n",
    "    f.write(html_table)"
   ]
  }
 ],
 "metadata": {
  "kernelspec": {
   "display_name": "Python 3",
   "language": "python",
   "name": "python3"
  },
  "language_info": {
   "codemirror_mode": {
    "name": "ipython",
    "version": 3
   },
   "file_extension": ".py",
   "mimetype": "text/x-python",
   "name": "python",
   "nbconvert_exporter": "python",
   "pygments_lexer": "ipython3",
   "version": "3.12.7"
  }
 },
 "nbformat": 4,
 "nbformat_minor": 5
}
